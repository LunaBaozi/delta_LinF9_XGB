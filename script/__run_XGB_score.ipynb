{
 "cells": [
  {
   "cell_type": "code",
   "execution_count": 1,
   "id": "laden-fiction",
   "metadata": {},
   "outputs": [],
   "source": [
    "import sys, os, re\n",
    "import numpy as np\n",
    "from scipy.spatial import distance\n",
    "from scipy.spatial.distance import cdist\n",
    "import pandas as pd\n",
    "from rdkit import Chem\n",
    "from rdkit.ML.Descriptors.MoleculeDescriptors import MolecularDescriptorCalculator\n",
    "import fileinput\n",
    "from pharma import pharma\n",
    "import featureSASA\n",
    "import xgboost as xgb\n",
    "import pickle\n",
    "from openbabel import openbabel as ob\n",
    "from openbabel import pybel\n",
    "import alphaspace2 as al\n",
    "import mdtraj"
   ]
  },
  {
   "cell_type": "code",
   "execution_count": 2,
   "id": "respected-motor",
   "metadata": {},
   "outputs": [],
   "source": [
    "import calc_bridge_wat\n",
    "import calc_ligCover_betaScore\n",
    "import calc_rdkit\n",
    "import calc_sasa\n",
    "import calc_vina_features\n",
    "import prepare_betaAtoms"
   ]
  },
  {
   "cell_type": "code",
   "execution_count": 3,
   "id": "assumed-robertson",
   "metadata": {},
   "outputs": [],
   "source": [
    "Vina = '/home/cyang/paper_XGB/delta_LinF9_XGB/software/smina_feature'\n",
    "Smina = '/home/cyang/paper_XGB/delta_LinF9_XGB/software/smina.static'\n",
    "SF = '/home/cyang/paper_XGB/delta_LinF9_XGB/software/sf_vina.txt'\n",
    "ADT = '/home/cyang/MGLTools-1.5.6/MGLToolsPckgs/AutoDockTools/Utilities24/prepare_receptor4.py'"
   ]
  },
  {
   "cell_type": "markdown",
   "id": "preceding-manual",
   "metadata": {},
   "source": [
    "#### Input"
   ]
  },
  {
   "cell_type": "code",
   "execution_count": 4,
   "id": "seventh-russian",
   "metadata": {},
   "outputs": [],
   "source": [
    "pro = '../test/JG98/protein_ATP.pdb'\n",
    "lig = '../test/JG98/JG98.pdb'"
   ]
  },
  {
   "cell_type": "markdown",
   "id": "inner-analysis",
   "metadata": {},
   "source": [
    "#### prepare_betaAtoms"
   ]
  },
  {
   "cell_type": "code",
   "execution_count": 5,
   "id": "reported-warner",
   "metadata": {},
   "outputs": [
    {
     "data": {
      "text/plain": [
       "'../test/JG98/protein_ATP.pdbqt'"
      ]
     },
     "execution_count": 5,
     "metadata": {},
     "output_type": "execute_result"
    }
   ],
   "source": [
    "beta = os.path.join(os.path.dirname(pro), 'betaAtoms.pdb')\n",
    "pro_pdbqt = prepare_betaAtoms.Prepare_beta(pro, beta, ADT)\n",
    "pro_pdbqt"
   ]
  },
  {
   "cell_type": "markdown",
   "id": "civil-rally",
   "metadata": {},
   "source": [
    "#### Vina_features"
   ]
  },
  {
   "cell_type": "code",
   "execution_count": 6,
   "id": "three-running",
   "metadata": {},
   "outputs": [],
   "source": [
    "v = calc_vina_features.vina(pro_pdbqt, lig, Vina, Smina)\n",
    "vinaF = [v.LinF9]+v.features(48)"
   ]
  },
  {
   "cell_type": "code",
   "execution_count": 7,
   "id": "primary-knowing",
   "metadata": {},
   "outputs": [
    {
     "data": {
      "text/plain": [
       "49"
      ]
     },
     "execution_count": 7,
     "metadata": {},
     "output_type": "execute_result"
    }
   ],
   "source": [
    "len(vinaF)"
   ]
  },
  {
   "cell_type": "markdown",
   "id": "narrative-shipping",
   "metadata": {},
   "source": [
    "#### Beta_features"
   ]
  },
  {
   "cell_type": "code",
   "execution_count": 8,
   "id": "caroline-crossing",
   "metadata": {},
   "outputs": [
    {
     "data": {
      "text/plain": [
       "[-10.3, 0.906]"
      ]
     },
     "execution_count": 8,
     "metadata": {},
     "output_type": "execute_result"
    }
   ],
   "source": [
    "betaScore, ligCover = calc_ligCover_betaScore.calc_betaScore_and_ligCover(lig, beta)\n",
    "betaF = [betaScore, ligCover]\n",
    "betaF"
   ]
  },
  {
   "cell_type": "markdown",
   "id": "collect-needle",
   "metadata": {},
   "source": [
    "#### sasa_features"
   ]
  },
  {
   "cell_type": "code",
   "execution_count": 9,
   "id": "protected-auckland",
   "metadata": {},
   "outputs": [],
   "source": [
    "datadir = os.path.dirname(os.path.abspath(pro))\n",
    "pro_ = os.path.abspath(pro)\n",
    "lig_ = os.path.abspath(lig)\n",
    "sasa_features = calc_sasa.sasa(datadir,pro_,lig_)"
   ]
  },
  {
   "cell_type": "code",
   "execution_count": 10,
   "id": "choice-pierre",
   "metadata": {},
   "outputs": [
    {
     "data": {
      "text/plain": [
       "30"
      ]
     },
     "execution_count": 10,
     "metadata": {},
     "output_type": "execute_result"
    }
   ],
   "source": [
    "sasaF = sasa_features.sasa+sasa_features.sasa_lig+sasa_features.sasa_pro\n",
    "len(sasaF)"
   ]
  },
  {
   "cell_type": "markdown",
   "id": "embedded-delivery",
   "metadata": {},
   "source": [
    "#### ligand_features"
   ]
  },
  {
   "cell_type": "code",
   "execution_count": 11,
   "id": "documentary-regular",
   "metadata": {},
   "outputs": [
    {
     "data": {
      "text/plain": [
       "10"
      ]
     },
     "execution_count": 11,
     "metadata": {},
     "output_type": "execute_result"
    }
   ],
   "source": [
    "mol = Chem.MolFromPDBFile(lig, removeHs=False)\n",
    "ligF = list(calc_rdkit.GetRDKitDescriptors(mol))\n",
    "len(ligF)"
   ]
  },
  {
   "cell_type": "markdown",
   "id": "unknown-closing",
   "metadata": {},
   "source": [
    "#### water_features"
   ]
  },
  {
   "cell_type": "code",
   "execution_count": 12,
   "id": "christian-provision",
   "metadata": {},
   "outputs": [],
   "source": [
    "df = calc_bridge_wat.Check_bridge_water(pro, lig)\n",
    "if len(df) == 0:\n",
    "    watF = [0,0,0]\n",
    "else:\n",
    "    Nbw, Epw, Elw = calc_bridge_wat.Sum_score(pro, lig, df, Smina)\n",
    "    watF = [Nbw, Epw, Elw]"
   ]
  },
  {
   "cell_type": "code",
   "execution_count": 13,
   "id": "dominant-dominant",
   "metadata": {},
   "outputs": [
    {
     "data": {
      "text/plain": [
       "3"
      ]
     },
     "execution_count": 13,
     "metadata": {},
     "output_type": "execute_result"
    }
   ],
   "source": [
    "len(watF)"
   ]
  },
  {
   "cell_type": "markdown",
   "id": "weighted-cathedral",
   "metadata": {},
   "source": [
    "#### Calculate XGB"
   ]
  },
  {
   "cell_type": "code",
   "execution_count": 14,
   "id": "dietary-hierarchy",
   "metadata": {},
   "outputs": [],
   "source": [
    "LinF9 = vinaF[0]*(-0.73349)\n",
    "LE = LinF9/vinaF[-4]\n",
    "sasa = sasaF[:18]+sasaF[19:28]+sasaF[29:]\n",
    "metal = vinaF[1:7]\n",
    "X = vinaF[7:]+[ligCover,betaScore,LE]+sasa+metal+ligF+watF\n",
    "X = np.array([X]).astype(np.float64)"
   ]
  },
  {
   "cell_type": "code",
   "execution_count": 15,
   "id": "blind-agency",
   "metadata": {},
   "outputs": [],
   "source": [
    "y_predict_ = []\n",
    "for i in range(1,11):\n",
    "    xgb_model = pickle.load(open(\"/home/cyang/paper_XGB/delta_LinF9_XGB/saved_model/mod_%d.pickle.dat\"%i,\"rb\"))\n",
    "    y_i_predict = xgb_model.predict(X, ntree_limit=xgb_model.best_ntree_limit)\n",
    "    y_predict_.append(y_i_predict)"
   ]
  },
  {
   "cell_type": "code",
   "execution_count": 16,
   "id": "right-external",
   "metadata": {},
   "outputs": [],
   "source": [
    "y_predict = np.average(y_predict_, axis=0)\n",
    "XGB = round(y_predict[0]+LinF9,3)"
   ]
  },
  {
   "cell_type": "code",
   "execution_count": 17,
   "id": "regional-lancaster",
   "metadata": {},
   "outputs": [
    {
     "data": {
      "text/plain": [
       "6.182"
      ]
     },
     "execution_count": 17,
     "metadata": {},
     "output_type": "execute_result"
    }
   ],
   "source": [
    "XGB"
   ]
  },
  {
   "cell_type": "code",
   "execution_count": null,
   "id": "federal-water",
   "metadata": {},
   "outputs": [],
   "source": []
  },
  {
   "cell_type": "code",
   "execution_count": null,
   "id": "earned-breed",
   "metadata": {},
   "outputs": [],
   "source": []
  }
 ],
 "metadata": {
  "kernelspec": {
   "display_name": "Python 3",
   "language": "python",
   "name": "python3"
  },
  "language_info": {
   "codemirror_mode": {
    "name": "ipython",
    "version": 3
   },
   "file_extension": ".py",
   "mimetype": "text/x-python",
   "name": "python",
   "nbconvert_exporter": "python",
   "pygments_lexer": "ipython3",
   "version": "3.8.5"
  }
 },
 "nbformat": 4,
 "nbformat_minor": 5
}
